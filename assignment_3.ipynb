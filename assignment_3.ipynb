{
  "nbformat": 4,
  "nbformat_minor": 0,
  "metadata": {
    "colab": {
      "provenance": []
    },
    "kernelspec": {
      "name": "python3",
      "display_name": "Python 3"
    },
    "language_info": {
      "name": "python"
    }
  },
  "cells": [
    {
      "cell_type": "code",
      "execution_count": null,
      "metadata": {
        "id": "jQwHKGyfF-_8"
      },
      "outputs": [],
      "source": []
    },
    {
      "cell_type": "markdown",
      "source": [
        "1.Build a simple webpage that displays text as shown in the below image.\n",
        "ans-"
      ],
      "metadata": {
        "id": "vr9twt1nGFxr"
      }
    },
    {
      "cell_type": "code",
      "source": [
        "<!DOCTYPE html>\n",
        "<html>\n",
        "<head>\n",
        "  <title>Text Formatting Example</title>\n",
        "</head>\n",
        "<body>\n",
        "\n",
        "  <p><b>This text will be bolded.</b></p>\n",
        "  <p><i>This text will be italic.</i></p>\n",
        "  <p><u>This text will be underlined.</u></p>\n",
        "  <p><span style=\"background-color: yellow;\">This text will be highlighted</span></p>\n",
        "  <p>This is normal text This will be super scripted<sup>This is normal again</sup></p>\n",
        "  <p>This is normal text This text will be subscripted<sub>This is normal again</sub></p>\n",
        "  <p>Normal Text <small>Smal Text</small></p>\n",
        "  <p><del>This text will be deleted</del></p>\n",
        "\n",
        "</body>\n",
        "</html>\n"
      ],
      "metadata": {
        "id": "OUeE7iRMGW1d"
      },
      "execution_count": null,
      "outputs": []
    },
    {
      "cell_type": "markdown",
      "source": [
        "Explanation of the HTML code:\n",
        " * <!DOCTYPE html>: Declares the document type and version of HTML being used.\n",
        " * html: The root element of the HTML page.\n",
        " * head: Contains meta-information about the HTML document (like the title).\n",
        " * title: Specifies a title for the HTML page (shown in the browser's title bar or page tab).\n",
        " * body: Contains the visible page content.\n",
        " * p: Defines a paragraph.\n",
        " * b: Defines bold text.\n",
        " * i: Defines italic text.\n",
        " * u: Defines underlined text.\n",
        " * span style=\"background-color: yellow;\": Defines a section of text with a yellow background using inline CSS.\n",
        " * sup: Defines superscripted text.\n",
        " * sub: Defines subscripted text.\n",
        " * small: Defines smaller text.\n",
        " * del: Defines deleted (strikethrough) text.\n"
      ],
      "metadata": {
        "id": "-kI5ue4LGe5z"
      }
    },
    {
      "cell_type": "markdown",
      "source": [
        "2. Build a simple webpage that helps users navigate different web development-related websites. Note: On\n",
        "clicking the hyperlink the web pages should open in a new tab. Below is a reference image.\n",
        "\n",
        "ans-"
      ],
      "metadata": {
        "id": "FHDbx-TXolzB"
      }
    },
    {
      "cell_type": "code",
      "source": [
        "<!DOCTYPE html>\n",
        "<html>\n",
        "<head>\n",
        "  <title>Web Development Navigation</title>\n",
        "</head>\n",
        "<body>\n",
        "\n",
        "  <h1>Navigate Me:</h1>\n",
        "\n",
        "  <p>\n",
        "    <a href=\"https://pwskills.com/\" target=\"_blank\">Take me to PW Skills to buy a course.</a>\n",
        "  </p>\n",
        "\n",
        "  <p>\n",
        "    <a href=\"https://developer.mozilla.org/en-US/docs/Web\" target=\"_blank\">Take me to MDN docs to know more about Web Development.</a>\n",
        "  </p>\n",
        "\n",
        "  <p>\n",
        "    <a href=\"https://lab.pwskills.com/\" target=\"_blank\">Take me to PW Skills Lab to practice live coding.</a>\n",
        "  </p>\n",
        "\n",
        "</body>\n",
        "</html>"
      ],
      "metadata": {
        "id": "XQG4FMj4qYX7"
      },
      "execution_count": null,
      "outputs": []
    },
    {
      "cell_type": "markdown",
      "source": [
        "Explanation of the HTML code:\n",
        " * !DOCTYPE html: Declares the document type and version of HTML being used.\n",
        " * html: The root element of the HTML page.\n",
        " * head: Contains meta-information about the HTML document (like the title).\n",
        " * title: Specifies a title for the HTML page (shown in the browser's title bar or page tab).\n",
        " * body: Contains the visible page content.\n",
        " * h1: Defines a level 1 heading (for the title \"Navigate Me:\").\n",
        " * p: Defines a paragraph.\n",
        " * a: Defines a hyperlink.\n",
        "   * href: Specifies the URL of the page the link goes to.\n",
        "   * target=\"_blank\": Opens the linked page in a new tab or window.\n",
        "This code will create a simple webpage with the title \"Navigate Me:\" and three links that will open in new tabs when clicked. Each link corresponds to one of the websites mentioned in the image. Save this code as an .html file and open it in a web browser to view the result."
      ],
      "metadata": {
        "id": "O4n8gN7LqdMU"
      }
    },
    {
      "cell_type": "markdown",
      "source": [
        "3.Build a simple blog web page with 3 pages home, web development, and web design. Each page must\n",
        "contain hyperlinks to other pages in the top, a heading of the page topic and a paragraph of information.\n",
        "For the home page you can add some information about yourself?\n",
        "\n",
        "Ans-\n",
        "Simple Blog Web Page with 3 Pages\n",
        "We'll create three separate HTML files: index.html (home), webdev.html (web development), and webdesign.html (web design).\n",
        "\n",
        "index.html (Home Page)\n"
      ],
      "metadata": {
        "id": "rgEuNL6Tqu8K"
      }
    },
    {
      "cell_type": "code",
      "source": [
        "<!DOCTYPE html>\n",
        "<html>\n",
        "<head>\n",
        "    <title>My Blog - Home</title>\n",
        "</head>\n",
        "<body>\n",
        "    <nav>\n",
        "        <a href=\"index.html\">Home</a> |\n",
        "        <a href=\"webdev.html\">Web Development</a> |\n",
        "        <a href=\"webdesign.html\">Web Design</a>\n",
        "    </nav>\n",
        "    <h1>Welcome to My Blog</h1>\n",
        "    <p>Hi, I'm [Your Name], a passionate web developer and designer. I love exploring new technologies and sharing my knowledge with others.</p>\n",
        "</body>\n",
        "</html>\n"
      ],
      "metadata": {
        "id": "1t5o9CvCrUcW"
      },
      "execution_count": null,
      "outputs": []
    },
    {
      "cell_type": "markdown",
      "source": [
        "webdev.html (Web Development Page)\n"
      ],
      "metadata": {
        "id": "oDlZ0W4MrZVX"
      }
    },
    {
      "cell_type": "code",
      "source": [
        "<!DOCTYPE html>\n",
        "<html>\n",
        "<head>\n",
        "    <title>My Blog - Web Development</title>\n",
        "</head>\n",
        "<body>\n",
        "    <nav>\n",
        "        <a href=\"index.html\">Home</a> |\n",
        "        <a href=\"webdev.html\">Web Development</a> |\n",
        "        <a href=\"webdesign.html\">Web Design</a>\n",
        "    </nav>\n",
        "    <h1>Web Development</h1>\n",
        "    <p>Web development is the process of building and maintaining websites. It involves a combination of programming, design, and database management.</p>\n",
        "</body>\n",
        "</html>\n",
        "\n"
      ],
      "metadata": {
        "id": "77IuF_fgrkXe"
      },
      "execution_count": null,
      "outputs": []
    },
    {
      "cell_type": "markdown",
      "source": [
        "webdesign.html (Web Design Page)"
      ],
      "metadata": {
        "id": "BUclpy3irpf7"
      }
    },
    {
      "cell_type": "code",
      "source": [
        "<!DOCTYPE html>\n",
        "<html>\n",
        "<head>\n",
        "    <title>My Blog - Web Design</title>\n",
        "</head>\n",
        "<body>\n",
        "    <nav>\n",
        "        <a href=\"index.html\">Home</a> |\n",
        "        <a href=\"webdev.html\">Web Development</a> |\n",
        "        <a href=\"webdesign.html\">Web Design</a>\n",
        "    </nav>\n",
        "    <h1>Web Design</h1>\n",
        "    <p>Web design focuses on the visual aspects of a website, including layout, colors, typography, and user experience.</p>\n",
        "</body>\n",
        "</html>\n"
      ],
      "metadata": {
        "id": "JlRuJESsruuk"
      },
      "execution_count": null,
      "outputs": []
    },
    {
      "cell_type": "markdown",
      "source": [
        "4. Create an ordered list of HTML tags. Each list item must include the tag name and some information about\n",
        "the tag?\n",
        "\n",
        "Ans-"
      ],
      "metadata": {
        "id": "YK4eE5GCry5m"
      }
    },
    {
      "cell_type": "code",
      "source": [
        "<!DOCTYPE html>\n",
        "<html>\n",
        "<head>\n",
        "    <title>HTML Tags List</title>\n",
        "</head>\n",
        "<body>\n",
        "    <h1>Common HTML Tags</h1>\n",
        "    <ol>\n",
        "        <li><strong>&lt;p&gt;</strong> - Defines a paragraph.</li>\n",
        "        <li><strong>&lt;h1&gt; to &lt;h6&gt;</strong> - Defines headings of different sizes.</li>\n",
        "        <li><strong>&lt;a&gt;</strong> - Defines a hyperlink.</li>\n",
        "        <li><strong>&lt;img&gt;</strong> - Embeds an image.</li>\n",
        "        <li><strong>&lt;ul&gt;</strong> - Defines an unordered list.</li>\n",
        "        <li><strong>&lt;ol&gt;</strong> - Defines an ordered list.</li>\n",
        "        <li><strong>&lt;li&gt;</strong> - Defines a list item.</li>\n",
        "        <li><strong>&lt;table&gt;</strong> - Defines a table.</li>\n",
        "        <li><strong>&lt;div&gt;</strong> - Defines a section in a document.</li>\n",
        "        <li><strong>&lt;span&gt;</strong> - Defines an inline section in a document.</li>\n",
        "    </ol>\n",
        "</body>\n",
        "</html>\n"
      ],
      "metadata": {
        "id": "7LRMMFqcr9ln"
      },
      "execution_count": null,
      "outputs": []
    },
    {
      "cell_type": "markdown",
      "source": [
        "5.Create a description list of full stack web development tech stack, using the <dl> tag. Each term should be\n",
        "a tech stack name and each description should be a brief explanation of what the tech stack is used for?\n",
        "\n",
        "Ans-"
      ],
      "metadata": {
        "id": "wvFa9yN_sCgP"
      }
    },
    {
      "cell_type": "code",
      "source": [
        "<!DOCTYPE html>\n",
        "<html>\n",
        "<head>\n",
        "    <title>Full Stack Tech Stack</title>\n",
        "</head>\n",
        "<body>\n",
        "    <h1>Full Stack Tech Stack</h1>\n",
        "    <dl>\n",
        "        <dt>HTML (HyperText Markup Language)</dt>\n",
        "        <dd>The standard markup language for creating web pages and web applications.</dd>\n",
        "        <dt>CSS (Cascading Style Sheets)</dt>\n",
        "        <dd>A style sheet language used for describing the presentation of a document written in HTML.</dd>\n",
        "        <dt>JavaScript</dt>\n",
        "        <dd>A programming language that enables interactive web pages.</dd>\n",
        "        <dt>Node.js</dt>\n",
        "        <dd>A JavaScript runtime built on Chrome's V8 JavaScript engine, used for server-side scripting.</dd>\n",
        "        <dt>Express.js</dt>\n",
        "        <dd>A fast, unopinionated, minimalist web framework for Node.js.</dd>\n",
        "        <dt>MongoDB</dt>\n",
        "        <dd>A cross-platform document-oriented database program.</dd>\n",
        "    </dl>\n",
        "</body>\n",
        "</html>\n",
        "\n"
      ],
      "metadata": {
        "id": "ZC52SzK2sKgE"
      },
      "execution_count": null,
      "outputs": []
    },
    {
      "cell_type": "markdown",
      "source": [
        "6.Create an ordered list of the full stack web development tech stack HTML, CSS, and JS. For each tech\n",
        "stack, create a table that lists the tech stack name, its primary use cases, and some key features or\n",
        "benefits. Below is a reference image?"
      ],
      "metadata": {
        "id": "LyaMsXkmsONC"
      }
    },
    {
      "cell_type": "code",
      "source": [
        "<!DOCTYPE html>\n",
        "<html>\n",
        "<head>\n",
        "    <title>Full Stack Tech Stack Details</title>\n",
        "</head>\n",
        "<body>\n",
        "    <h1>Full Stack Tech Stack</h1>\n",
        "    <ol>\n",
        "        <li>\n",
        "            <h2>HTML</h2>\n",
        "            <table>\n",
        "                <tr>\n",
        "                    <th>Tech Stack</th>\n",
        "                    <th>Primary Use Cases</th>\n",
        "                    <th>Key Features/Benefits</th>\n",
        "                </tr>\n",
        "                <tr>\n",
        "                    <td>HTML</td>\n",
        "                    <td>Structure of web pages</td>\n",
        "                    <td>Simple, widely supported, semantic markup</td>\n",
        "                </tr>\n",
        "            </table>\n",
        "        </li>\n",
        "        <li>\n",
        "            <h2>CSS</h2>\n",
        "            <table>\n",
        "                <tr>\n",
        "                    <th>Tech Stack</th>\n",
        "                    <th>Primary Use Cases</th>\n",
        "                    <th>Key Features/Benefits</th>\n",
        "                </tr>\n",
        "                <tr>\n",
        "                    <td>CSS</td>\n",
        "                    <td>Styling web pages</td>\n",
        "                    <td>Separation of content and presentation, responsive design</td>\n",
        "                </tr>\n",
        "            </table>\n",
        "        </li>\n",
        "        <li>\n",
        "            <h2>JavaScript</h2>\n",
        "            <table>\n",
        "                <tr>\n",
        "                    <th>Tech Stack</th>\n",
        "                    <th>Primary Use Cases</th>\n",
        "                    <th>Key Features/Benefits</th>\n",
        "                </tr>\n",
        "                <tr>\n",
        "                    <td>JavaScript</td>\n",
        "                    <td>Interactivity, dynamic content</td>\n",
        "                    <td>Client-side scripting, event handling, DOM manipulation</td>\n",
        "                </tr>\n",
        "            </table>\n",
        "        </li>\n",
        "    </ol>\n",
        "</body>\n",
        "</html>"
      ],
      "metadata": {
        "id": "e3NRDn97scjN"
      },
      "execution_count": null,
      "outputs": []
    },
    {
      "cell_type": "markdown",
      "source": [
        "7. Build a complex nested list structure representing a multi-level table of contents. Use unordered lists\n",
        "(ul) and list items (li) with inline-block styling to create a structured layout. Apply formatting tags to\n",
        "enhance the presentation of list items."
      ],
      "metadata": {
        "id": "np46xXUzsmJc"
      }
    },
    {
      "cell_type": "code",
      "source": [
        "<!DOCTYPE html>\n",
        "<html>\n",
        "<head>\n",
        "    <title>Table of Contents</title>\n",
        "    <style>\n",
        "        ul {\n",
        "            list-style-type: none;\n",
        "            padding-left: 20px;\n",
        "        }\n",
        "        li {\n",
        "            display: inline-block;\n",
        "            width: 100%;\n",
        "        }\n",
        "        ul ul {\n",
        "            padding-left: 20px;\n",
        "        }\n",
        "        .toc-title {\n",
        "            font-size: 1.5em;\n",
        "            font-weight: bold;\n",
        "            margin-bottom: 20px;\n",
        "        }\n",
        "    </style>\n",
        "</head>\n",
        "<body>\n",
        "\n",
        "    <div class=\"toc-title\">Table of Contents</div>\n",
        "\n",
        "    <ul>\n",
        "        <li>Part 1: Introduction</li>\n",
        "        <li>Part 2: Getting Started\n",
        "            <ul>\n",
        "                <li>2.1 Installing the Software</li>\n",
        "                <li>2.2 Creating a New Project\n",
        "                    <ul>\n",
        "                        <li>2.2.1 Project Templates</li>\n",
        "                        <li>2.2.2 Customizing Settings</li>\n",
        "                    </ul>\n",
        "                </li>\n",
        "                <li>2.3 Exploring the Interface\n",
        "                    <ul>\n",
        "                        <li>2.3.1 Toolbar Features</li>\n",
        "                        <li>2.3.2 Panel Layout\n",
        "                            <ul>\n",
        "                                <li>2.3.2.1 Docking Panels</li>\n",
        "                                <li>2.3.2.2 Tabbed Interface</li>\n",
        "                            </ul>\n",
        "                        </li>\n",
        "                    </ul>\n",
        "                </li>\n",
        "            </ul>\n",
        "        </li>\n",
        "        <li>Part 3: Advanced Topics\n",
        "            <ul>\n",
        "                <li>3.1 Working with Plugins\n",
        "                    <ul>\n",
        "                        <li>3.1.1 Installing Plugins</li>\n",
        "                        <li>3.1.2 Plugin Configuration</li>\n",
        "                    </ul>\n",
        "                </li>\n",
        "                <li>3.2 Customizing the UI\n",
        "                    <ul>\n",
        "                        <li>3.2.1 Changing Themes</li>\n",
        "                        <li>3.2.2 Configuring Shortcuts</li>\n",
        "                    </ul>\n",
        "                </li>\n",
        "                <li>3.3 Optimizing Performance\n",
        "                    <ul>\n",
        "                        <li>3.3.1 Caching Strategies</li>\n",
        "                        <li>3.3.2 Resource Minification</li>\n",
        "                    </ul>\n",
        "                </li>\n",
        "            </ul>\n",
        "        </li>\n",
        "        <li>Part 4: Conclusion</li>\n",
        "    </ul>\n",
        "\n",
        "</body>\n",
        "</html>"
      ],
      "metadata": {
        "id": "OSEJQPOvtZb0"
      },
      "execution_count": null,
      "outputs": []
    },
    {
      "cell_type": "markdown",
      "source": [
        "Explanation:\n",
        " * Basic Structure:\n",
        "   * The code starts with the basic HTML structure (!DOCTYPE html>, html>,head>,body>).\n",
        "   * The title tag sets the title of the page to \"Table of Contents\".\n",
        " * CSS Styling (<style tag):\n",
        "   * ul { list-style-type: none; padding-left: 20px; }: Removes the default bullet points and adds padding to the left of each unordered list, creating the indentation effect.\n",
        "   * li { display: inline-block; width: 100%; }: Makes each list item take up the full width of its parent container, allowing for proper indentation.\n",
        "   * ul ul { padding-left: 20px; }: Adds additional padding to nested unordered lists, further indenting them.\n",
        "   * .toc-title { font-size: 1.5em; font-weight: bold; margin-bottom: 20px; }: Styles the \"Table of Contents\" title with larger font size, bold weight, and some bottom margin.\n",
        " * Nested Lists (<ul, <li):\n",
        "   * The core of the structure is created using nested <ul and <li elements.\n",
        "   * Each part and sub-part of the table of contents is represented as a list item (<li).\n",
        "   * Nested lists are created by placing <ul elements inside <li elements, creating the multi-level structure.\n",
        " * Content:\n",
        "   * The text content for each list item is added as plain text within the li> tags, matching the provided output.\n",
        "How to Use:\n",
        " * Save the code as an .html file (e.g., toc.html).\n",
        " * Open the file in a web browser.\n",
        "The browser will render the nested list structure as a table of contents, with proper indentation and styling as specified in the CSS."
      ],
      "metadata": {
        "id": "A3tQEwDstnmW"
      }
    },
    {
      "cell_type": "markdown",
      "source": [
        "8.Create a table to display a conference schedule. Each row corresponds to a time slot, and each column\n",
        "corresponds to a room. Some time slots might have multiple sessions running simultaneously in different\n",
        "rooms. Utilize rowspan and colspan attributes as necessary to accommodate this complex schedule.\n",
        "(use table attribute “cellpadding”  to give extra padding in each table cell ).?"
      ],
      "metadata": {
        "id": "OpMrcGqKt51o"
      }
    },
    {
      "cell_type": "code",
      "source": [
        "<!DOCTYPE html>\n",
        "<html lang=\"en\">\n",
        "<head>\n",
        "    <meta charset=\"UTF-8\">\n",
        "    <meta name=\"viewport\" content=\"width=device-width, initial-scale=1.0\">\n",
        "    <title>Document</title>\n",
        "</head>\n",
        "<body>\n",
        "    <h1>Time Table</h1>\n",
        "\n",
        "    <table border=\"1\" cellspacing=\"5\" cellpadding=\"10\">\n",
        "        <tr>\n",
        "            <th>Day</th>\n",
        "            <th>1</th>\n",
        "            <th>2</th>\n",
        "            <th>3</th>\n",
        "            <th>break</th>\n",
        "            <th>4</th>\n",
        "            <th>5</th>\n",
        "            <th>6</th>\n",
        "            <th>7</th>\n",
        "\n",
        "        </tr>\n",
        "        <tr>\n",
        "            <td>time</td>\n",
        "            <td>9:20-10:10</td>\n",
        "            <td>10:10-11:00</td>\n",
        "            <td>11:00-11:50</td>\n",
        "            <td>11:50-12:40</td>\n",
        "            <td>12:40-01:20</td>\n",
        "            <td>1:20-02:10</td>\n",
        "            <td>2:10-3:00</td>\n",
        "            <td>3:00-3:50</td>\n",
        "\n",
        "        </tr>\n",
        "        <tr>\n",
        "            <td>monday</td>\n",
        "            <td>STM</td>\n",
        "            <td>ADA</td>\n",
        "            <td>FLAT</td>\n",
        "            <td rowspan=\"6\">Break</td>\n",
        "            <td>IOT</td>\n",
        "            <td>ED</td>\n",
        "            <td>STM</td>\n",
        "            <td>MMM</td>\n",
        "        </tr>\n",
        "        <tr>\n",
        "            <td>tuesday</td>\n",
        "            <td>ED</td>\n",
        "            <td>STM</td>\n",
        "            <td>FLAT</td>\n",
        "            <td>ADA</td>\n",
        "            <td>IOT</td>\n",
        "            <td>STM</td>\n",
        "            <td>SPORTS</td>\n",
        "        </tr>\n",
        "        <tr>\n",
        "            <td>wednesday</td>\n",
        "            <td>STM</td>\n",
        "            <td>ADA</td>\n",
        "            <td>STM</td>\n",
        "            <td>FLAT</td>\n",
        "            <td>IOT</td>\n",
        "            <td>ED</td>\n",
        "            <td>FLAT</td>\n",
        "        </tr>\n",
        "        <tr>\n",
        "            <td>thursday</td>\n",
        "            <td>ED</td>\n",
        "            <td>STM</td>\n",
        "            <td>FLAT</td>\n",
        "            <td>STM</td>\n",
        "            <td>IOT</td>\n",
        "            <td>ADA</td>\n",
        "            <td>FLAT</td>\n",
        "        </tr>\n",
        "        <tr>\n",
        "            <td>friday</td>\n",
        "            <td>FLAT</td>\n",
        "            <td>ADA</td>\n",
        "            <td>STM</td>\n",
        "            <td>STM</td>\n",
        "            <td>FLAT</td>\n",
        "            <td>IOT</td>\n",
        "            <td>ED</td>\n",
        "        </tr>\n",
        "        <tr>\n",
        "            <td>saturday</td>\n",
        "            <td>ADA</td>\n",
        "            <td>FLAT</td>\n",
        "            <td>STM</td>\n",
        "            <td>STM</td>\n",
        "            <td>FLAT</td>\n",
        "            <td>IOT</td>\n",
        "            <td>C/A</td>\n",
        "        </tr>\n",
        "\n",
        "\n",
        "    </table>\n",
        "</body>\n",
        "</html>"
      ],
      "metadata": {
        "id": "_wd3L6_QuEHR"
      },
      "execution_count": null,
      "outputs": []
    }
  ]
}